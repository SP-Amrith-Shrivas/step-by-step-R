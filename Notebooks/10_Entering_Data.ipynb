{
 "cells": [
  {
   "cell_type": "code",
   "execution_count": 1,
   "metadata": {},
   "outputs": [
    {
     "name": "stdout",
     "output_type": "stream",
     "text": [
      " [1]  1  2  3  4  5  6  7  8  9 10\n",
      " [1] 10  9  8  7  6  5  4  3  2  1  0\n"
     ]
    }
   ],
   "source": [
    "# colon\n",
    "c1 <- 1:10\n",
    "c2 <- 10:0\n",
    "print(c1)\n",
    "print(c2)"
   ]
  },
  {
   "cell_type": "code",
   "execution_count": 2,
   "metadata": {},
   "outputs": [
    {
     "name": "stdout",
     "output_type": "stream",
     "text": [
      " [1] 100  90  80  70  60  50  40  30  20  10   0\n"
     ]
    }
   ],
   "source": [
    "# seq (Sequence Generator)\n",
    "s1 <- seq(100 , 0, by=-10)\n",
    "print(s1)"
   ]
  },
  {
   "cell_type": "code",
   "execution_count": 3,
   "metadata": {},
   "outputs": [
    {
     "name": "stdout",
     "output_type": "stream",
     "text": [
      "[1] 1 2 3 4 5\n",
      "[1]  6  7  8  9 10\n"
     ]
    }
   ],
   "source": [
    "# c (Combine/Concatenate)\n",
    "c1 <- c(1,2,3,4,5)\n",
    "print(c1)\n",
    "c2 <- c(6:10)\n",
    "print(c2)"
   ]
  },
  {
   "cell_type": "code",
   "execution_count": 4,
   "metadata": {},
   "outputs": [
    {
     "name": "stdout",
     "output_type": "stream",
     "text": [
      "[1] TRUE TRUE TRUE TRUE TRUE\n",
      " [1] \"A\" \"B\" \"A\" \"B\" \"A\" \"B\" \"A\" \"B\" \"A\" \"B\"\n",
      " [1] \"A\" \"A\" \"A\" \"A\" \"A\" \"B\" \"B\" \"B\" \"B\" \"B\"\n"
     ]
    }
   ],
   "source": [
    "# rep (replicate/repetition)\n",
    "rp1 <- rep(TRUE, 5)\n",
    "print(rp1)\n",
    "\n",
    "rp2 <- rep(c('A', 'B'), 5)\n",
    "print(rp2)\n",
    "\n",
    "rp3 <- rep(c('A', 'B'), each=5)\n",
    "print(rp3)"
   ]
  },
  {
   "cell_type": "markdown",
   "metadata": {},
   "source": [
    "scan() can be used to read from console"
   ]
  }
 ],
 "metadata": {
  "kernelspec": {
   "display_name": "R",
   "language": "R",
   "name": "ir"
  },
  "language_info": {
   "codemirror_mode": "r",
   "file_extension": ".r",
   "mimetype": "text/x-r-source",
   "name": "R",
   "pygments_lexer": "r",
   "version": "4.0.2"
  }
 },
 "nbformat": 4,
 "nbformat_minor": 4
}
